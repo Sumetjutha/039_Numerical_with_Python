{
 "cells": [
  {
   "attachments": {},
   "cell_type": "markdown",
   "metadata": {},
   "source": [
    "#### False Position / Regula falsi method"
   ]
  },
  {
   "cell_type": "code",
   "execution_count": 4,
   "metadata": {},
   "outputs": [],
   "source": [
    "from math import sin\n",
    "\n",
    "# create function\n",
    "def rfalsi(f,x1,x2,tol=1.0e-6,maxfpos=100):\n",
    "    xh = 0\n",
    "    fpos = 0\n",
    "    if f(x1) * f(x2) < 0:\n",
    "        for fpos in range(maxfpos):\n",
    "            xh = x2 - (x2-x1) / (f(x2) - f(x1)) * f(x2)\n",
    "            if abs(f(xh)) < tol:\n",
    "                break\n",
    "            elif f(x1) * f(xh) < 0:\n",
    "                x2 = xh\n",
    "            else:\n",
    "                x1 = xh\n",
    "    else:\n",
    "            print(\"No root exists within the given interval.\")\n",
    "    return xh,fpos    "
   ]
  },
  {
   "cell_type": "code",
   "execution_count": 5,
   "metadata": {},
   "outputs": [],
   "source": [
    "y = lambda x: x**2 - sin(x)**2 - 4*x + 1"
   ]
  },
  {
   "cell_type": "code",
   "execution_count": 6,
   "metadata": {},
   "outputs": [],
   "source": [
    "x1 = float(input('Enter x1: '))\n",
    "x2 = float(input(\"Enter x2: \"))"
   ]
  },
  {
   "cell_type": "code",
   "execution_count": 7,
   "metadata": {},
   "outputs": [],
   "source": [
    "r, n = rfalsi(y, x1, x2)"
   ]
  },
  {
   "cell_type": "code",
   "execution_count": 10,
   "metadata": {},
   "outputs": [
    {
     "name": "stdout",
     "output_type": "stream",
     "text": [
      "The root = 0.25032449373872800446605424440349452197552 at 3 false positions.\n"
     ]
    }
   ],
   "source": [
    "print(\"The root = %0.4f at %d false positions.\"%(r, n))"
   ]
  }
 ],
 "metadata": {
  "kernelspec": {
   "display_name": "Python 3",
   "language": "python",
   "name": "python3"
  },
  "language_info": {
   "codemirror_mode": {
    "name": "ipython",
    "version": 3
   },
   "file_extension": ".py",
   "mimetype": "text/x-python",
   "name": "python",
   "nbconvert_exporter": "python",
   "pygments_lexer": "ipython3",
   "version": "3.9.13"
  },
  "orig_nbformat": 4
 },
 "nbformat": 4,
 "nbformat_minor": 2
}
