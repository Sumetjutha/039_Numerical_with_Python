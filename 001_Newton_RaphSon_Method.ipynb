{
 "cells": [
  {
   "attachments": {},
   "cell_type": "markdown",
   "metadata": {},
   "source": [
    "#### Basic Python"
   ]
  },
  {
   "cell_type": "code",
   "execution_count": 1,
   "metadata": {},
   "outputs": [
    {
     "name": "stdout",
     "output_type": "stream",
     "text": [
      "the root if 1.500000 at 7 iteration.\n"
     ]
    }
   ],
   "source": [
    "# basic newton raphson\n",
    "x = 5\n",
    "for i in range(100):\n",
    "    xnew = x - (2*x**3 - 9.5*x + 7.5) / (6*x**2 - 9.5)\n",
    "    if abs(xnew - x) < 0.001:\n",
    "        break\n",
    "    x = xnew\n",
    "    \n",
    "print(\"the root if %f at %d iteration.\" % (xnew,i))"
   ]
  },
  {
   "cell_type": "code",
   "execution_count": 2,
   "metadata": {},
   "outputs": [
    {
     "name": "stdout",
     "output_type": "stream",
     "text": [
      "the root if 1.500001 at 10 iteration.\n"
     ]
    }
   ],
   "source": [
    "x = 20\n",
    "for i in range(100):\n",
    "    xnew = x - (2*x**3 - 9.5*x + 7.5) / (6*x**2 - 9.5)\n",
    "    if abs(xnew - x) < 0.001:\n",
    "        break\n",
    "    x = xnew\n",
    "    \n",
    "print(\"the root if %f at %d iteration.\" % (xnew,i))"
   ]
  },
  {
   "cell_type": "code",
   "execution_count": 3,
   "metadata": {},
   "outputs": [
    {
     "name": "stdout",
     "output_type": "stream",
     "text": [
      "the root if 1.500 at 10 iteration.\n"
     ]
    }
   ],
   "source": [
    "x = 20\n",
    "for i in range(100):\n",
    "    xnew = x - (2*x**3 - 9.5*x + 7.5) / (6*x**2 - 9.5)\n",
    "    if abs(xnew - x) < 0.001:\n",
    "        break\n",
    "    x = xnew\n",
    "    \n",
    "print(\"the root if %.3f at %d iteration.\" % (xnew,i))"
   ]
  },
  {
   "cell_type": "code",
   "execution_count": 4,
   "metadata": {},
   "outputs": [
    {
     "name": "stdout",
     "output_type": "stream",
     "text": [
      "the root if 1.500000 at 11 iteration.\n"
     ]
    }
   ],
   "source": [
    "x = 20\n",
    "for i in range(100):\n",
    "    xnew = x - (2*x**3 - 9.5*x + 7.5) / (6*x**2 - 9.5)\n",
    "    if abs(xnew - x) < 0.000001:\n",
    "        break\n",
    "    x = xnew\n",
    "    \n",
    "print(\"the root if %f at %d iteration.\" % (xnew,i))"
   ]
  },
  {
   "cell_type": "code",
   "execution_count": 5,
   "metadata": {},
   "outputs": [
    {
     "name": "stdout",
     "output_type": "stream",
     "text": [
      "the root if -2.500 at 7 iteration.\n"
     ]
    }
   ],
   "source": [
    "x = -10\n",
    "for i in range(100):\n",
    "    xnew = x - (2*x**3 - 9.5*x + 7.5) / (6*x**2 - 9.5)\n",
    "    if abs(xnew - x) < 0.000001:\n",
    "        break\n",
    "    x = xnew\n",
    "    \n",
    "print(\"the root if %0.3f at %d iteration.\" % (xnew,i))"
   ]
  },
  {
   "cell_type": "code",
   "execution_count": 6,
   "metadata": {},
   "outputs": [],
   "source": [
    "# define function\n",
    "def nraphson(fn, dfn, x, tol, maxiter):\n",
    "    for i in range(maxiter):\n",
    "        xnew = x - fn(x) / dfn(x)\n",
    "        if abs(xnew - x) < tol:\n",
    "            break\n",
    "        x = xnew\n",
    "    return xnew, i"
   ]
  },
  {
   "cell_type": "code",
   "execution_count": 7,
   "metadata": {},
   "outputs": [],
   "source": [
    "# define y and dy\n",
    "y = lambda x: 2*x**3 - 9.5*x + 7.5\n",
    "dy = lambda x: 6*x**2 - 9.5"
   ]
  },
  {
   "cell_type": "code",
   "execution_count": 8,
   "metadata": {},
   "outputs": [],
   "source": [
    "# use function into x,n\n",
    "x,n = nraphson(y, dy , 5, 0.0001, 100)"
   ]
  },
  {
   "cell_type": "code",
   "execution_count": 9,
   "metadata": {},
   "outputs": [
    {
     "name": "stdout",
     "output_type": "stream",
     "text": [
      "the root if 1.500000 at 7 iteration.\n"
     ]
    }
   ],
   "source": [
    "# show result\n",
    "print(\"the root if %f at %d iteration.\" % (x,n))"
   ]
  }
 ],
 "metadata": {
  "kernelspec": {
   "display_name": "Python 3",
   "language": "python",
   "name": "python3"
  },
  "language_info": {
   "codemirror_mode": {
    "name": "ipython",
    "version": 3
   },
   "file_extension": ".py",
   "mimetype": "text/x-python",
   "name": "python",
   "nbconvert_exporter": "python",
   "pygments_lexer": "ipython3",
   "version": "3.9.13"
  },
  "orig_nbformat": 4
 },
 "nbformat": 4,
 "nbformat_minor": 2
}
