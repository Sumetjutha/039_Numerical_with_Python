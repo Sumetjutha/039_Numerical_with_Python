{
 "cells": [
  {
   "cell_type": "code",
   "execution_count": 1,
   "metadata": {},
   "outputs": [],
   "source": [
    "# define function\n",
    "def secant(fn, x1, x2, tol, maxiter):\n",
    "    for iteration in range(maxiter):\n",
    "        xnew = x2 - (x2-x1) / (fn(x2) - fn(x1)) * fn(x2)\n",
    "        if abs(xnew - x2) < tol:\n",
    "            break\n",
    "        else:\n",
    "            x1 = x2\n",
    "            x2 = xnew\n",
    "    else:\n",
    "        print(\"Warning: Maximum number of iterations is reached!\")\n",
    "    return xnew, iteration"
   ]
  },
  {
   "cell_type": "code",
   "execution_count": 12,
   "metadata": {},
   "outputs": [],
   "source": [
    "# create input value\n",
    "f = lambda x: 2*x**2 - 5*x + 3\n",
    "x1 = float(input(\"Enter x1: \"))\n",
    "x2 = float(input(\"Enter x2: \"))"
   ]
  },
  {
   "cell_type": "code",
   "execution_count": 13,
   "metadata": {},
   "outputs": [
    {
     "name": "stdout",
     "output_type": "stream",
     "text": [
      "x1 =>  -2.0\n",
      "x2 =>  0.0\n"
     ]
    }
   ],
   "source": [
    "# showing values\n",
    "print(\"x1 => \",x1)\n",
    "print(\"x2 => \",x2)"
   ]
  },
  {
   "cell_type": "code",
   "execution_count": 14,
   "metadata": {},
   "outputs": [],
   "source": [
    "# # use function into r,n\n",
    "r,n = secant(f,x1,x2,0.000001,100)"
   ]
  },
  {
   "cell_type": "code",
   "execution_count": 15,
   "metadata": {},
   "outputs": [
    {
     "name": "stdout",
     "output_type": "stream",
     "text": [
      "Root = 1.0000 at 8 iterations\n"
     ]
    }
   ],
   "source": [
    "# showing result\n",
    "print(\"Root = %.4f at %d iterations\"%(r,n))"
   ]
  }
 ],
 "metadata": {
  "kernelspec": {
   "display_name": "Python 3",
   "language": "python",
   "name": "python3"
  },
  "language_info": {
   "codemirror_mode": {
    "name": "ipython",
    "version": 3
   },
   "file_extension": ".py",
   "mimetype": "text/x-python",
   "name": "python",
   "nbconvert_exporter": "python",
   "pygments_lexer": "ipython3",
   "version": "3.9.13"
  },
  "orig_nbformat": 4
 },
 "nbformat": 4,
 "nbformat_minor": 2
}
